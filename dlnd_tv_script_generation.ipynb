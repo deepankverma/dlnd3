{
 "cells": [
  {
   "cell_type": "markdown",
   "metadata": {
    "deletable": true,
    "editable": true
   },
   "source": [
    "# TV Script Generation\n",
    "In this project, you'll generate your own [Simpsons](https://en.wikipedia.org/wiki/The_Simpsons) TV scripts using RNNs.  You'll be using part of the [Simpsons dataset](https://www.kaggle.com/wcukierski/the-simpsons-by-the-data) of scripts from 27 seasons.  The Neural Network you'll build will generate a new TV script for a scene at [Moe's Tavern](https://simpsonswiki.com/wiki/Moe's_Tavern).\n",
    "## Get the Data\n",
    "The data is already provided for you.  You'll be using a subset of the original dataset.  It consists of only the scenes in Moe's Tavern.  This doesn't include other versions of the tavern, like \"Moe's Cavern\", \"Flaming Moe's\", \"Uncle Moe's Family Feed-Bag\", etc.."
   ]
  },
  {
   "cell_type": "code",
   "execution_count": 28,
   "metadata": {
    "collapsed": false,
    "deletable": true,
    "editable": true
   },
   "outputs": [],
   "source": [
    "\"\"\"\n",
    "DON'T MODIFY ANYTHING IN THIS CELL\n",
    "\"\"\"\n",
    "import helper\n",
    "\n",
    "data_dir = './data/simpsons/moes_tavern_lines.txt'\n",
    "text = helper.load_data(data_dir)\n",
    "# Ignore notice, since we don't use it for analysing the data\n",
    "# print(text)\n",
    "# print(set(text))\n",
    "# print((list(set(text))))\n",
    "#print(text)\n",
    "\n",
    "a = text.split()\n",
    "# print(len(set(a)))\n",
    "# # print(set(a))\n",
    "# print(type(text))\n"
   ]
  },
  {
   "cell_type": "markdown",
   "metadata": {
    "deletable": true,
    "editable": true
   },
   "source": [
    "## Explore the Data\n",
    "Play around with `view_sentence_range` to view different parts of the data."
   ]
  },
  {
   "cell_type": "code",
   "execution_count": 29,
   "metadata": {
    "collapsed": false,
    "deletable": true,
    "editable": true
   },
   "outputs": [
    {
     "name": "stdout",
     "output_type": "stream",
     "text": [
      "Dataset Stats\n",
      "Roughly the number of unique words: 11501\n",
      "Number of scenes: 263\n",
      "Average number of sentences in each scene: 15.190114068441064\n",
      "Number of lines: 4258\n",
      "Average number of words in each line: 11.504462188821043\n",
      "\n",
      "The sentences 0 to 5:\n",
      "[YEAR DATE 1989] © Twentieth Century Fox Film Corporation. All rights reserved.\n",
      "\n",
      "Moe_Szyslak: (INTO PHONE) Moe's Tavern. Where the elite meet to drink.\n",
      "Bart_Simpson: Eh, yeah, hello, is Mike there? Last name, Rotch.\n",
      "Moe_Szyslak: (INTO PHONE) Hold on, I'll check. (TO BARFLIES) Mike Rotch. Mike Rotch. Hey, has anybody seen Mike Rotch, lately?\n"
     ]
    }
   ],
   "source": [
    "view_sentence_range = (0, 5)\n",
    "\n",
    "\"\"\"\n",
    "DON'T MODIFY ANYTHING IN THIS CELL\n",
    "\"\"\"\n",
    "import numpy as np\n",
    "\n",
    "print('Dataset Stats')\n",
    "print('Roughly the number of unique words: {}'.format(len({word: None for word in text.split()})))\n",
    "#######handy way other than set to count unique words in dataset\n",
    "\n",
    "\n",
    "##print({word: None for word in text.split()})\n",
    "\n",
    "\n",
    "scenes = text.split('\\n\\n')\n",
    "print('Number of scenes: {}'.format(len(scenes)))\n",
    "#print(scenes)\n",
    "\n",
    "# arbit = text.split('Moe_Szyslak:')\n",
    "# print('No. of arbit text: {}'.format(len(arbit)))\n",
    "# print(arbit)\n",
    "\n",
    "##scene.count count the occurences of newline in the scene\n",
    "sentence_count_scene = [scene.count('\\n') for scene in scenes]\n",
    "##print(len(sentence_count_scene))\n",
    "print('Average number of sentences in each scene: {}'.format(np.average(sentence_count_scene)))\n",
    "\n",
    "sentences = [sentence for scene in scenes for sentence in scene.split('\\n')]\n",
    "print('Number of lines: {}'.format(len(sentences)))\n",
    "word_count_sentence = [len(sentence.split()) for sentence in sentences]\n",
    "print('Average number of words in each line: {}'.format(np.average(word_count_sentence)))\n",
    "\n",
    "print()\n",
    "print('The sentences {} to {}:'.format(*view_sentence_range))\n",
    "print('\\n'.join(text.split('\\n')[view_sentence_range[0]:view_sentence_range[1]]))\n",
    "#print(text)"
   ]
  },
  {
   "cell_type": "markdown",
   "metadata": {
    "deletable": true,
    "editable": true
   },
   "source": [
    "## Implement Preprocessing Functions\n",
    "The first thing to do to any dataset is preprocessing.  Implement the following preprocessing functions below:\n",
    "- Lookup Table\n",
    "- Tokenize Punctuation\n",
    "\n",
    "### Lookup Table\n",
    "To create a word embedding, you first need to transform the words to ids.  In this function, create two dictionaries:\n",
    "- Dictionary to go from the words to an id, we'll call `vocab_to_int`\n",
    "- Dictionary to go from the id to word, we'll call `int_to_vocab`\n",
    "\n",
    "Return these dictionaries in the following tuple `(vocab_to_int, int_to_vocab)`"
   ]
  },
  {
   "cell_type": "code",
   "execution_count": 3,
   "metadata": {
    "collapsed": false,
    "deletable": true,
    "editable": true
   },
   "outputs": [
    {
     "name": "stdout",
     "output_type": "stream",
     "text": [
      "Tests Passed\n"
     ]
    }
   ],
   "source": [
    "##here text has already in list type. i.e already splitted.\n",
    "\n",
    "import numpy as np\n",
    "import problem_unittests as tests\n",
    "from collections import Counter\n",
    "#print(len(text))\n",
    "def create_lookup_tables(text):\n",
    "    \"\"\"\n",
    "    Create lookup tables for vocabulary\n",
    "    :param text: The text of tv scripts split into words\n",
    "    :return: A tuple of dicts (vocab_to_int, int_to_vocab)\n",
    "    \"\"\"\n",
    "    # TODO: Implement Function\n",
    "#     print(type(text))\n",
    "#     param_text = Counter(set(text))\n",
    "    \n",
    "    \n",
    "#     vocab_to_int = {i:c for i,c in enumerate(param_text)}\n",
    "#     int_to_vocab = {c:i for i,c in enumerate(param_text)}\n",
    "    \n",
    "#     return (vocab_to_int,int_to_vocab)\n",
    "\n",
    "\n",
    "\n",
    "\n",
    "    counts = set(text)\n",
    "    ##counter counts the frequency  of words appearing in the text. \n",
    "    \n",
    "    #vocab = sorted(counts, key=counts.get, reverse=True)\n",
    "    #sorting arranges in the decreasing order\n",
    "    \n",
    "    vocab_to_int = {word: ii for ii, word in enumerate(counts)}\n",
    "    int_to_vocab = {ii:word for ii, word in enumerate(counts)}\n",
    "    \n",
    "    #int_to_vocab = {v:k for k, v in vocab_to_int.items()}\n",
    "    return (vocab_to_int, int_to_vocab)\n",
    "\n",
    "\n",
    "\n",
    "#print(len(text))\n",
    "\"\"\"\n",
    "DON'T MODIFY ANYTHING IN THIS CELL THAT IS BELOW THIS LINE\n",
    "\"\"\"\n",
    "tests.test_create_lookup_tables(create_lookup_tables)\n"
   ]
  },
  {
   "cell_type": "markdown",
   "metadata": {
    "deletable": true,
    "editable": true
   },
   "source": [
    "### Tokenize Punctuation\n",
    "We'll be splitting the script into a word array using spaces as delimiters.  However, punctuations like periods and exclamation marks make it hard for the neural network to distinguish between the word \"bye\" and \"bye!\".\n",
    "\n",
    "Implement the function `token_lookup` to return a dict that will be used to tokenize symbols like \"!\" into \"||Exclamation_Mark||\".  Create a dictionary for the following symbols where the symbol is the key and value is the token:\n",
    "- Period ( . )\n",
    "- Comma ( , )\n",
    "- Quotation Mark ( \" )\n",
    "- Semicolon ( ; )\n",
    "- Exclamation mark ( ! )\n",
    "- Question mark ( ? )\n",
    "- Left Parentheses ( ( )\n",
    "- Right Parentheses ( ) )\n",
    "- Dash ( -- )\n",
    "- Return ( \\n )\n",
    "\n",
    "This dictionary will be used to token the symbols and add the delimiter (space) around it.  This separates the symbols as it's own word, making it easier for the neural network to predict on the next word. Make sure you don't use a token that could be confused as a word. Instead of using the token \"dash\", try using something like \"||dash||\"."
   ]
  },
  {
   "cell_type": "code",
   "execution_count": 4,
   "metadata": {
    "collapsed": false,
    "deletable": true,
    "editable": true
   },
   "outputs": [
    {
     "name": "stdout",
     "output_type": "stream",
     "text": [
      "Tests Passed\n"
     ]
    }
   ],
   "source": [
    "def token_lookup():\n",
    "    \"\"\"\n",
    "    Generate a dict to turn punctuation into a token.\n",
    "    :return: Tokenize dictionary where the key is the punctuation and the value is the token\n",
    "    \"\"\"\n",
    "    # TODO: Implement Function\n",
    "    \n",
    "    keys = ['.', ',', '\"', ';', '!', '?', '(',')', '--', '\\n']\n",
    "    values = ['||Period||', '||Comma||', '||Quotation_Mark||', '||Semicolon||', '||Exclamation_Mark||',\n",
    "              '||Question_Mark||', '||Left_Parentheses||', '||Right_Parentheses||', '||Dash||',\n",
    "              '||Return||'] \n",
    "    \n",
    "    \n",
    "    \n",
    "    \n",
    "    return dict(zip(keys,values))\n",
    "\n",
    "\"\"\"\n",
    "DON'T MODIFY ANYTHING IN THIS CELL THAT IS BELOW THIS LINE\n",
    "\"\"\"\n",
    "tests.test_tokenize(token_lookup)"
   ]
  },
  {
   "cell_type": "markdown",
   "metadata": {
    "deletable": true,
    "editable": true
   },
   "source": [
    "## Preprocess all the data and save it\n",
    "Running the code cell below will preprocess all the data and save it to file."
   ]
  },
  {
   "cell_type": "code",
   "execution_count": 5,
   "metadata": {
    "collapsed": false,
    "deletable": true,
    "editable": true
   },
   "outputs": [],
   "source": [
    "\"\"\"\n",
    "DON'T MODIFY ANYTHING IN THIS CELL\n",
    "\"\"\"\n",
    "\n",
    "# Preprocess Training, Validation, and Testing Data\n",
    "helper.preprocess_and_save_data(data_dir, token_lookup, create_lookup_tables)"
   ]
  },
  {
   "cell_type": "markdown",
   "metadata": {
    "deletable": true,
    "editable": true
   },
   "source": [
    "# Check Point\n",
    "This is your first checkpoint. If you ever decide to come back to this notebook or have to restart the notebook, you can start from here. The preprocessed data has been saved to disk."
   ]
  },
  {
   "cell_type": "code",
   "execution_count": 6,
   "metadata": {
    "collapsed": false,
    "deletable": true,
    "editable": true
   },
   "outputs": [],
   "source": [
    "\"\"\"\n",
    "DON'T MODIFY ANYTHING IN THIS CELL\n",
    "\"\"\"\n",
    "import helper\n",
    "import numpy as np\n",
    "import problem_unittests as tests\n",
    "\n",
    "int_text, vocab_to_int, int_to_vocab, token_dict = helper.load_preprocess()"
   ]
  },
  {
   "cell_type": "markdown",
   "metadata": {
    "deletable": true,
    "editable": true
   },
   "source": [
    "## Build the Neural Network\n",
    "You'll build the components necessary to build a RNN by implementing the following functions below:\n",
    "- get_inputs\n",
    "- get_init_cell\n",
    "- get_embed\n",
    "- build_rnn\n",
    "- build_nn\n",
    "- get_batches\n",
    "\n",
    "### Check the Version of TensorFlow and Access to GPU"
   ]
  },
  {
   "cell_type": "code",
   "execution_count": 7,
   "metadata": {
    "collapsed": false,
    "deletable": true,
    "editable": true
   },
   "outputs": [
    {
     "name": "stdout",
     "output_type": "stream",
     "text": [
      "TensorFlow Version: 1.0.0\n",
      "Default GPU Device: /gpu:0\n"
     ]
    }
   ],
   "source": [
    "\"\"\"\n",
    "DON'T MODIFY ANYTHING IN THIS CELL\n",
    "\"\"\"\n",
    "from distutils.version import LooseVersion\n",
    "import warnings\n",
    "import tensorflow as tf\n",
    "\n",
    "# Check TensorFlow Version\n",
    "assert LooseVersion(tf.__version__) >= LooseVersion('1.0'), 'Please use TensorFlow version 1.0 or newer'\n",
    "print('TensorFlow Version: {}'.format(tf.__version__))\n",
    "\n",
    "# Check for a GPU\n",
    "if not tf.test.gpu_device_name():\n",
    "    warnings.warn('No GPU found. Please use a GPU to train your neural network.')\n",
    "else:\n",
    "    print('Default GPU Device: {}'.format(tf.test.gpu_device_name()))"
   ]
  },
  {
   "cell_type": "markdown",
   "metadata": {
    "deletable": true,
    "editable": true
   },
   "source": [
    "### Input\n",
    "Implement the `get_inputs()` function to create TF Placeholders for the Neural Network.  It should create the following placeholders:\n",
    "- Input text placeholder named \"input\" using the [TF Placeholder](https://www.tensorflow.org/api_docs/python/tf/placeholder) `name` parameter.\n",
    "- Targets placeholder\n",
    "- Learning Rate placeholder\n",
    "\n",
    "Return the placeholders in the following the tuple `(Input, Targets, LearingRate)`"
   ]
  },
  {
   "cell_type": "code",
   "execution_count": 8,
   "metadata": {
    "collapsed": false,
    "deletable": true,
    "editable": true
   },
   "outputs": [
    {
     "name": "stdout",
     "output_type": "stream",
     "text": [
      "Tensor(\"input:0\", shape=(?, ?), dtype=int32)\n",
      "Tests Passed\n"
     ]
    }
   ],
   "source": [
    "def get_inputs():\n",
    "    \"\"\"\n",
    "    Create TF Placeholders for input, targets, and learning rate.\n",
    "    :return: Tuple (input, targets, learning rate)\n",
    "    \"\"\"\n",
    "    # TODO: Implement Function\n",
    "    \n",
    "    Input = tf.placeholder(tf.int32,shape = [None,None], name = \"input\")\n",
    "    \n",
    "    print(Input)\n",
    "    \n",
    "    Targets = tf.placeholder(tf.int32,shape = [None,None], name = \"targets\")\n",
    "    LearningRate = tf.placeholder(tf.float32, name = \"lr\")\n",
    "    \n",
    "    return (Input,Targets,LearningRate)\n",
    "\n",
    "\n",
    "\"\"\"\n",
    "DON'T MODIFY ANYTHING IN THIS CELL THAT IS BELOW THIS LINE\n",
    "\"\"\"\n",
    "tests.test_get_inputs(get_inputs)"
   ]
  },
  {
   "cell_type": "markdown",
   "metadata": {
    "deletable": true,
    "editable": true
   },
   "source": [
    "### Build RNN Cell and Initialize\n",
    "Stack one or more [`BasicLSTMCells`](https://www.tensorflow.org/api_docs/python/tf/contrib/rnn/BasicLSTMCell) in a [`MultiRNNCell`](https://www.tensorflow.org/api_docs/python/tf/contrib/rnn/MultiRNNCell).\n",
    "- The Rnn size should be set using `rnn_size`\n",
    "- Initalize Cell State using the MultiRNNCell's [`zero_state()`](https://www.tensorflow.org/api_docs/python/tf/contrib/rnn/MultiRNNCell#zero_state) function\n",
    "    - Apply the name \"initial_state\" to the initial state using [`tf.identity()`](https://www.tensorflow.org/api_docs/python/tf/identity)\n",
    "\n",
    "Return the cell and initial state in the following tuple `(Cell, InitialState)`"
   ]
  },
  {
   "cell_type": "code",
   "execution_count": 9,
   "metadata": {
    "collapsed": false,
    "deletable": true,
    "editable": true
   },
   "outputs": [
    {
     "name": "stdout",
     "output_type": "stream",
     "text": [
      "batch_size===================\n",
      "Tensor(\"Placeholder:0\", dtype=int32)\n",
      "rnn_size=====================\n",
      "256\n",
      "rnncell======================\n",
      "<tensorflow.contrib.rnn.python.ops.core_rnn_cell_impl.BasicLSTMCell object at 0x7fc68d850748>\n",
      "Cell====================\n",
      "<tensorflow.contrib.rnn.python.ops.core_rnn_cell_impl.MultiRNNCell object at 0x7fc68d84ac88>\n",
      "initial_state============================\n",
      "(LSTMStateTuple(c=<tf.Tensor 'zeros:0' shape=(?, 256) dtype=float32>, h=<tf.Tensor 'zeros_1:0' shape=(?, 256) dtype=float32>),)\n",
      "InitialState=============================\n",
      "Tensor(\"initial_state:0\", shape=(1, 2, ?, 256), dtype=float32)\n",
      "Tests Passed\n"
     ]
    }
   ],
   "source": [
    "def get_init_cell(batch_size, rnn_size):\n",
    "    \"\"\"\n",
    "    Create an RNN Cell and initialize it.\n",
    "    :param batch_size: Size of batches\n",
    "    :param rnn_size: Size of RNNs\n",
    "    :return: Tuple (cell, initialize state)\n",
    "    \"\"\"\n",
    "    # TODO: Implement Function\n",
    "    \n",
    "#     lstm = tf.contrib.rnn.BasicLSTMCell(rnn_size)\n",
    "#     cell = tf.contrib.rnn.MultiRNNCell([lstm])\n",
    "#     initial_state = tf.identity(cell.zero_state(batch_size, tf.float32), name=\"initial_state\")\n",
    "#     return cell, initial_state\n",
    "    print(\"batch_size===================\")\n",
    "    print(batch_size)\n",
    "    \n",
    "    print(\"rnn_size=====================\")\n",
    "    print(rnn_size)\n",
    "    \n",
    "    rnncell = tf.contrib.rnn.BasicLSTMCell(rnn_size)\n",
    "    print(\"rnncell======================\")\n",
    "    print(rnncell)\n",
    "    \n",
    "    \n",
    "    Cell = tf.contrib.rnn.MultiRNNCell([rnncell],1)\n",
    "    \n",
    "    print(\"Cell====================\")\n",
    "    print(Cell)\n",
    "    \n",
    "    initial_state = Cell.zero_state(batch_size, tf.float32)\n",
    "    print(\"initial_state============================\")\n",
    "    print(initial_state)\n",
    "    InitialState = tf.identity(initial_state, name=\"initial_state\")\n",
    "    print(\"InitialState=============================\")\n",
    "    print(InitialState)\n",
    "    return (Cell,InitialState)\n",
    "\n",
    "##what is initial state?\n",
    "\n",
    "\n",
    "\"\"\"\n",
    "DON'T MODIFY ANYTHING IN THIS CELL THAT IS BELOW THIS LINE\n",
    "\"\"\"\n",
    "tests.test_get_init_cell(get_init_cell)"
   ]
  },
  {
   "cell_type": "markdown",
   "metadata": {
    "deletable": true,
    "editable": true
   },
   "source": [
    "### Word Embedding\n",
    "Apply embedding to `input_data` using TensorFlow.  Return the embedded sequence."
   ]
  },
  {
   "cell_type": "code",
   "execution_count": 14,
   "metadata": {
    "collapsed": false,
    "deletable": true,
    "editable": true
   },
   "outputs": [
    {
     "name": "stdout",
     "output_type": "stream",
     "text": [
      "vocab_size=======================\n",
      "27\n",
      "embed_dim==========================\n",
      "256\n",
      "inputdata====================\n",
      "Tensor(\"Placeholder:0\", shape=(50, 5), dtype=int32)\n",
      "embedding=================\n",
      "Tensor(\"Variable/read:0\", shape=(27, 256), dtype=float32)\n",
      "embed==========================\n",
      "Tensor(\"embedding_lookup:0\", shape=(50, 5, 256), dtype=float32)\n",
      "Tests Passed\n"
     ]
    }
   ],
   "source": [
    "def get_embed(input_data, vocab_size, embed_dim):\n",
    "    \"\"\"\n",
    "    Create embedding for <input_data>.\n",
    "    :param input_data: TF placeholder for text input.\n",
    "    :param vocab_size: Number of words in vocabulary.\n",
    "    :param embed_dim: Number of embedding dimensions\n",
    "    :return: Embedded input.\n",
    "    \"\"\"\n",
    "    # TODO: Implement Function\n",
    "    print(\"vocab_size=======================\")\n",
    "    print(vocab_size)\n",
    "    print(\"embed_dim==========================\")\n",
    "    print(embed_dim)\n",
    "    \n",
    "    print(\"inputdata====================\")\n",
    "    print(input_data)\n",
    "    \n",
    "    embedding = tf.Variable(tf.truncated_normal((vocab_size,embed_dim),-1,1))\n",
    "    print(\"embedding=================\")\n",
    "    print(embedding)\n",
    "    \n",
    "    embed = tf.nn.embedding_lookup(embedding,input_data)\n",
    "    print(\"embed==========================\")\n",
    "    print(embed)\n",
    "    \n",
    "    return embed\n",
    "\n",
    "\n",
    "\"\"\"\n",
    "DON'T MODIFY ANYTHING IN THIS CELL THAT IS BELOW THIS LINE\n",
    "\"\"\"\n",
    "tests.test_get_embed(get_embed)"
   ]
  },
  {
   "cell_type": "markdown",
   "metadata": {
    "deletable": true,
    "editable": true
   },
   "source": [
    "### Build RNN\n",
    "You created a RNN Cell in the `get_init_cell()` function.  Time to use the cell to create a RNN.\n",
    "- Build the RNN using the [`tf.nn.dynamic_rnn()`](https://www.tensorflow.org/api_docs/python/tf/nn/dynamic_rnn)\n",
    " - Apply the name \"final_state\" to the final state using [`tf.identity()`](https://www.tensorflow.org/api_docs/python/tf/identity)\n",
    "\n",
    "Return the outputs and final_state state in the following tuple `(Outputs, FinalState)` "
   ]
  },
  {
   "cell_type": "code",
   "execution_count": 15,
   "metadata": {
    "collapsed": false,
    "deletable": true,
    "editable": true
   },
   "outputs": [
    {
     "name": "stdout",
     "output_type": "stream",
     "text": [
      "cell==================\n",
      "<tensorflow.contrib.rnn.python.ops.core_rnn_cell_impl.MultiRNNCell object at 0x7fc68d84a278>\n",
      "inputs================\n",
      "Tensor(\"Placeholder:0\", shape=(?, ?, 256), dtype=float32)\n",
      "outputs===================\n",
      "Tensor(\"rnn/transpose:0\", shape=(?, ?, 256), dtype=float32)\n",
      "Tests Passed\n"
     ]
    }
   ],
   "source": [
    "def build_rnn(cell, inputs):\n",
    "    \"\"\"\n",
    "    Create a RNN using a RNN Cell\n",
    "    :param cell: RNN Cell\n",
    "    :param inputs: Input text data\n",
    "    :return: Tuple (Outputs, Final State)\n",
    "    \"\"\"\n",
    "    # TODO: Implement Function\n",
    "    #tf.nn.dynamic_rnn(cell, inputs, sequence_length=None, initial_state=None, dtype=None, parallel_iterations=None, swap_memory=False, time_major=False, scope=None)\n",
    "\n",
    "    ##but input has to be embed vectors not text\n",
    "    print(\"cell==================\")\n",
    "    print(cell)\n",
    "    \n",
    "    print(\"inputs================\")\n",
    "    print(inputs)\n",
    "    Outputs, final_state = tf.nn.dynamic_rnn(cell, inputs = inputs, dtype=tf.float32)\n",
    "    print(\"outputs===================\")\n",
    "    print(Outputs)\n",
    "    final_state = tf.identity(final_state, name = \"final_state\")\n",
    "    return (Outputs, final_state)\n",
    "    \n",
    "#     return Outputs, FinalState\n",
    "\n",
    "\n",
    "\"\"\"\n",
    "DON'T MODIFY ANYTHING IN THIS CELL THAT IS BELOW THIS LINE\n",
    "\"\"\"\n",
    "tests.test_build_rnn(build_rnn)"
   ]
  },
  {
   "cell_type": "markdown",
   "metadata": {
    "deletable": true,
    "editable": true
   },
   "source": [
    "### Build the Neural Network\n",
    "Apply the functions you implemented above to:\n",
    "- Apply embedding to `input_data` using your `get_embed(input_data, vocab_size, embed_dim)` function.\n",
    "- Build RNN using `cell` and your `build_rnn(cell, inputs)` function.\n",
    "- Apply a fully connected layer with a linear activation and `vocab_size` as the number of outputs.\n",
    "\n",
    "Return the logits and final state in the following tuple (Logits, FinalState) "
   ]
  },
  {
   "cell_type": "code",
   "execution_count": 23,
   "metadata": {
    "collapsed": false,
    "deletable": true,
    "editable": true
   },
   "outputs": [
    {
     "name": "stdout",
     "output_type": "stream",
     "text": [
      "vocab_size=======================\n",
      "27\n",
      "embed_dim==========================\n",
      "300\n",
      "inputdata====================\n",
      "Tensor(\"Placeholder:0\", shape=(128, 5), dtype=int32)\n",
      "embedding=================\n",
      "Tensor(\"Variable/read:0\", shape=(27, 300), dtype=float32)\n",
      "embed==========================\n",
      "Tensor(\"embedding_lookup:0\", shape=(128, 5, 300), dtype=float32)\n",
      "cell==================\n",
      "<tensorflow.contrib.rnn.python.ops.core_rnn_cell_impl.MultiRNNCell object at 0x7fc6600fda20>\n",
      "inputs================\n",
      "Tensor(\"embedding_lookup:0\", shape=(128, 5, 300), dtype=float32)\n",
      "outputs===================\n",
      "Tensor(\"rnn/transpose:0\", shape=(128, 5, 256), dtype=float32)\n",
      "Tests Passed\n"
     ]
    }
   ],
   "source": [
    "def build_nn(cell, rnn_size, input_data, vocab_size):\n",
    "\n",
    "    \"\"\"\n",
    "Build part of the neural network\n",
    "    :param cell: RNN cell\n",
    "    :param rnn_size: Size of rnns\n",
    "    :param input_data: Input data\n",
    "    :param vocab_size: Vocabulary size\n",
    "    :return: Tuple (Logits, FinalState)\n",
    "    \"\"\"\n",
    "#     # TODO: Implement Function\n",
    "#     print(\"rnn_size==========================\")\n",
    "#     print(rnn_size)\n",
    "#     print(\"input_data==========================\")\n",
    "#     print(input_data)\n",
    "#     print(\"vocab_size===========================\")\n",
    "#     print(vocab_size)\n",
    "    \n",
    "#     inputs = get_embed(input_data, vocab_size, 200)\n",
    "#     print(\"inputs=========================================\")\n",
    "#     print(inputs)\n",
    "#     outputs, final_state = build_rnn(cell,inputs)\n",
    "#     print(\"outputs====================================\")\n",
    "#     print(outputs)\n",
    "    \n",
    "#     # Unfold output from 3d to 2d\n",
    "#     #output = tf.reshape(outputs, [-1, rnn_size])\n",
    "    \n",
    "#     # Now connect the RNN outputs to a softmax layer\n",
    "#     softmax_w = tf.Variable(tf.truncated_normal((rnn_size, vocab_size), stddev=0.1))\n",
    "#     print(\"softmax=================================\")\n",
    "#     print(softmax_w)\n",
    "#     softmax_b = tf.Variable(tf.zeros(vocab_size))\n",
    "#     print(\"softmax_b============================\")\n",
    "#     print(softmax_b)\n",
    "    \n",
    "#     #logits = tf.matmul(output, softmax_w) + softmax_b\n",
    "    \n",
    "#     # Refold back to 3d\n",
    "# #     logits = tf.reshape(logits, input_data.shape.as_list() + [vocab_size])\n",
    "#     logits = tf.contrib.layers.fully_connected(outputs, vocab_size, activation_fn=None)\n",
    "#     print(\"logits==================================\")\n",
    "#     print(logits)\n",
    "    \n",
    "#     return logits, final_state\n",
    "    \n",
    "    inputs = get_embed(input_data, vocab_size, 300)\n",
    "    outputs, final_state = build_rnn(cell, inputs)\n",
    "    #logits = tf.contrib.layers.fully_connected(outputs, vocab_size, activation_fn=None)\n",
    "    logits = tf.contrib.layers.fully_connected(outputs, vocab_size, activation_fn=None,\n",
    "                                               weights_initializer=tf.truncated_normal_initializer(stddev= 0.05),\n",
    "                                               biases_initializer=0)\n",
    "    return (logits, final_state)\n",
    "    \n",
    "\"\"\"\n",
    "DON'T MODIFY ANYTHING IN THIS CELL THAT IS BELOW THIS LINE\n",
    "\"\"\"\n",
    "tests.test_build_nn(build_nn)"
   ]
  },
  {
   "cell_type": "markdown",
   "metadata": {
    "deletable": true,
    "editable": true
   },
   "source": [
    "### Batches\n",
    "Implement `get_batches` to create batches of input and targets using `int_text`.  The batches should be a Numpy array with the shape `(number of batches, 2, batch size, sequence length)`. Each batch contains two elements:\n",
    "- The first element is a single batch of **input** with the shape `[batch size, sequence length]`\n",
    "- The second element is a single batch of **targets** with the shape `[batch size, sequence length]`\n",
    "\n",
    "If you can't fill the last batch with enough data, drop the last batch.\n",
    "\n",
    "For exmple, `get_batches([1, 2, 3, 4, 5, 6, 7, 8, 9, 10, 11, 12, 13, 14, 15], 2, 3)` would return a Numpy array of the following:\n",
    "```\n",
    "[\n",
    "  # First Batch\n",
    "  [\n",
    "    # Batch of Input\n",
    "    [[ 1  2  3], [ 7  8  9]],\n",
    "    # Batch of targets\n",
    "    [[ 2  3  4], [ 8  9 10]]\n",
    "  ],\n",
    " \n",
    "  # Second Batch\n",
    "  [\n",
    "    # Batch of Input\n",
    "    [[ 4  5  6], [10 11 12]],\n",
    "    # Batch of targets\n",
    "    [[ 5  6  7], [11 12 13]]\n",
    "  ]\n",
    "]\n",
    "```"
   ]
  },
  {
   "cell_type": "code",
   "execution_count": 30,
   "metadata": {
    "collapsed": false,
    "deletable": true,
    "editable": true
   },
   "outputs": [
    {
     "name": "stdout",
     "output_type": "stream",
     "text": [
      "len(int_text)====================\n",
      "5000\n",
      "batch_size, seq_length===================\n",
      "128 5\n",
      "no. of batches==========================\n",
      "7\n",
      "int_text full batches===================\n",
      "4481\n",
      "result.shape=====================================\n",
      "(7, 2, 128, 5)\n",
      "skpd===========================================\n",
      "35\n",
      "Tests Passed\n"
     ]
    }
   ],
   "source": [
    "def get_batches(int_text, batch_size, seq_length):\n",
    "    \"\"\"\n",
    "    Return batches of input and target\n",
    "    :param int_text: Text with the words replaced by their ids\n",
    "    :param batch_size: The size of batch\n",
    "    :param seq_length: The length of sequence\n",
    "    :return: Batches as a Numpy array\n",
    "    \"\"\"\n",
    "    # TODO: Implement Function\n",
    "    \n",
    "    print(\"len(int_text)====================\")\n",
    "    print(len(int_text))\n",
    "    \n",
    "    print(\"batch_size, seq_length===================\")\n",
    "    print(batch_size,seq_length)\n",
    "    n_batches = len(int_text)//(batch_size*seq_length)\n",
    "    print(\"no. of batches==========================\")\n",
    "    print(n_batches)\n",
    "    \n",
    "    \n",
    "    # printing only full batches\n",
    "    int_text = int_text[:n_batches*batch_size*seq_length+1]\n",
    "    print(\"int_text full batches===================\")\n",
    "    print(len(int_text))\n",
    "    \n",
    "    #it should be 4480 its coming 4481, the mystery continues\n",
    "    \n",
    "    \n",
    "    \n",
    "# Initialize result & calculate skip distance\n",
    "    result=np.ndarray(shape=(n_batches,2,batch_size,seq_length), dtype=int)\n",
    "    print(\"result.shape=====================================\")\n",
    "    print(result.shape)\n",
    "#skipping words\n",
    "    skpd = n_batches*seq_length  \n",
    "    print(\"skpd===========================================\")\n",
    "    print(skpd)\n",
    "\n",
    "# First loop steps at batch_size * seq_length\n",
    "    for b in range(n_batches):\n",
    "        batch_idx = b*seq_length\n",
    "        #print(\"batch_index=====================\")\n",
    "        #print(batch_idx)\n",
    "        \n",
    "        \n",
    "        x , y= [], []\n",
    "        for bb in range(batch_size):\n",
    "            idx = batch_idx + (bb*skpd) # get starting index for batch\n",
    "           # print(idx)\n",
    "            x_idx = idx\n",
    "            y_idx = idx+1 \n",
    "           # print(y_idx)\n",
    "            result[b][0][bb] = int_text[x_idx:x_idx+seq_length]\n",
    "           # print(result[b][0][bb])\n",
    "            result[b][1][bb] = int_text[y_idx:y_idx+seq_length]                   \n",
    "    return result\n",
    "\n",
    "\n",
    "\"\"\"\n",
    "DON'T MODIFY ANYTHING IN THIS CELL THAT IS BELOW THIS LINE\n",
    "\"\"\"\n",
    "tests.test_get_batches(get_batches)"
   ]
  },
  {
   "cell_type": "markdown",
   "metadata": {
    "deletable": true,
    "editable": true
   },
   "source": [
    "## Neural Network Training\n",
    "### Hyperparameters\n",
    "Tune the following parameters:\n",
    "\n",
    "- Set `num_epochs` to the number of epochs.\n",
    "- Set `batch_size` to the batch size.\n",
    "- Set `rnn_size` to the size of the RNNs.\n",
    "- Set `seq_length` to the length of sequence.\n",
    "- Set `learning_rate` to the learning rate.\n",
    "- Set `show_every_n_batches` to the number of batches the neural network should print progress."
   ]
  },
  {
   "cell_type": "code",
   "execution_count": 38,
   "metadata": {
    "collapsed": true,
    "deletable": true,
    "editable": true
   },
   "outputs": [],
   "source": [
    "# Number of Epochs\n",
    "num_epochs = 125\n",
    "# Batch Size\n",
    "batch_size = 128\n",
    "# RNN Size\n",
    "rnn_size = 1024\n",
    "# Sequence Length\n",
    "seq_length = 50\n",
    "# Learning Rate\n",
    "learning_rate = 0.001\n",
    "# Show stats for every n number of batches\n",
    "show_every_n_batches = 5\n",
    "\n",
    "\"\"\"\n",
    "DON'T MODIFY ANYTHING IN THIS CELL THAT IS BELOW THIS LINE\n",
    "\"\"\"\n",
    "save_dir = './save'"
   ]
  },
  {
   "cell_type": "markdown",
   "metadata": {
    "deletable": true,
    "editable": true
   },
   "source": [
    "### Build the Graph\n",
    "Build the graph using the neural network you implemented."
   ]
  },
  {
   "cell_type": "code",
   "execution_count": 39,
   "metadata": {
    "collapsed": false,
    "deletable": true,
    "editable": true
   },
   "outputs": [
    {
     "name": "stdout",
     "output_type": "stream",
     "text": [
      "Tensor(\"input:0\", shape=(?, ?), dtype=int32)\n",
      "batch_size===================\n",
      "Tensor(\"strided_slice:0\", shape=(), dtype=int32)\n",
      "rnn_size=====================\n",
      "1024\n",
      "rnncell======================\n",
      "<tensorflow.contrib.rnn.python.ops.core_rnn_cell_impl.BasicLSTMCell object at 0x7fc68d728fd0>\n",
      "Cell====================\n",
      "<tensorflow.contrib.rnn.python.ops.core_rnn_cell_impl.MultiRNNCell object at 0x7fc68d777fd0>\n",
      "initial_state============================\n",
      "(LSTMStateTuple(c=<tf.Tensor 'zeros:0' shape=(?, 1024) dtype=float32>, h=<tf.Tensor 'zeros_1:0' shape=(?, 1024) dtype=float32>),)\n",
      "InitialState=============================\n",
      "Tensor(\"initial_state:0\", shape=(1, 2, ?, 1024), dtype=float32)\n",
      "vocab_size=======================\n",
      "6779\n",
      "embed_dim==========================\n",
      "300\n",
      "inputdata====================\n",
      "Tensor(\"input:0\", shape=(?, ?), dtype=int32)\n",
      "embedding=================\n",
      "Tensor(\"Variable/read:0\", shape=(6779, 300), dtype=float32)\n",
      "embed==========================\n",
      "Tensor(\"embedding_lookup:0\", shape=(?, ?, 300), dtype=float32)\n",
      "cell==================\n",
      "<tensorflow.contrib.rnn.python.ops.core_rnn_cell_impl.MultiRNNCell object at 0x7fc68d777fd0>\n",
      "inputs================\n",
      "Tensor(\"embedding_lookup:0\", shape=(?, ?, 300), dtype=float32)\n",
      "outputs===================\n",
      "Tensor(\"rnn/transpose:0\", shape=(?, ?, 1024), dtype=float32)\n"
     ]
    }
   ],
   "source": [
    "\"\"\"\n",
    "DON'T MODIFY ANYTHING IN THIS CELL\n",
    "\"\"\"\n",
    "from tensorflow.contrib import seq2seq\n",
    "\n",
    "train_graph = tf.Graph()\n",
    "with train_graph.as_default():\n",
    "    vocab_size = len(int_to_vocab)\n",
    "    input_text, targets, lr = get_inputs()\n",
    "    input_data_shape = tf.shape(input_text)\n",
    "    cell, initial_state = get_init_cell(input_data_shape[0], rnn_size)\n",
    "    logits, final_state = build_nn(cell, rnn_size, input_text, vocab_size)\n",
    "\n",
    "    # Probabilities for generating words\n",
    "    probs = tf.nn.softmax(logits, name='probs')\n",
    "\n",
    "    # Loss function\n",
    "    cost = seq2seq.sequence_loss(\n",
    "        logits,\n",
    "        targets,\n",
    "        tf.ones([input_data_shape[0], input_data_shape[1]]))\n",
    "\n",
    "    # Optimizer\n",
    "    optimizer = tf.train.AdamOptimizer(lr)\n",
    "\n",
    "    # Gradient Clipping\n",
    "    gradients = optimizer.compute_gradients(cost)\n",
    "    capped_gradients = [(tf.clip_by_value(grad, -1., 1.), var) for grad, var in gradients]\n",
    "    train_op = optimizer.apply_gradients(capped_gradients)"
   ]
  },
  {
   "cell_type": "markdown",
   "metadata": {
    "deletable": true,
    "editable": true
   },
   "source": [
    "## Train\n",
    "Train the neural network on the preprocessed data.  If you have a hard time getting a good loss, check the [forms](https://discussions.udacity.com/) to see if anyone is having the same problem."
   ]
  },
  {
   "cell_type": "code",
   "execution_count": 40,
   "metadata": {
    "collapsed": false,
    "deletable": true,
    "editable": true
   },
   "outputs": [
    {
     "name": "stdout",
     "output_type": "stream",
     "text": [
      "len(int_text)====================\n",
      "69100\n",
      "batch_size, seq_length===================\n",
      "128 50\n",
      "no. of batches==========================\n",
      "10\n",
      "int_text full batches===================\n",
      "64001\n",
      "result.shape=====================================\n",
      "(10, 2, 128, 50)\n",
      "skpd===========================================\n",
      "500\n",
      "Epoch   0 Batch    0/10   train_loss = 8.868\n",
      "Epoch   0 Batch    5/10   train_loss = 6.195\n",
      "Epoch   1 Batch    0/10   train_loss = 5.991\n",
      "Epoch   1 Batch    5/10   train_loss = 5.780\n",
      "Epoch   2 Batch    0/10   train_loss = 5.771\n",
      "Epoch   2 Batch    5/10   train_loss = 5.627\n",
      "Epoch   3 Batch    0/10   train_loss = 5.604\n",
      "Epoch   3 Batch    5/10   train_loss = 5.478\n",
      "Epoch   4 Batch    0/10   train_loss = 5.447\n",
      "Epoch   4 Batch    5/10   train_loss = 5.337\n",
      "Epoch   5 Batch    0/10   train_loss = 5.302\n",
      "Epoch   5 Batch    5/10   train_loss = 5.205\n",
      "Epoch   6 Batch    0/10   train_loss = 5.176\n",
      "Epoch   6 Batch    5/10   train_loss = 5.085\n",
      "Epoch   7 Batch    0/10   train_loss = 5.056\n",
      "Epoch   7 Batch    5/10   train_loss = 4.976\n",
      "Epoch   8 Batch    0/10   train_loss = 4.950\n",
      "Epoch   8 Batch    5/10   train_loss = 4.878\n",
      "Epoch   9 Batch    0/10   train_loss = 4.852\n",
      "Epoch   9 Batch    5/10   train_loss = 4.785\n",
      "Epoch  10 Batch    0/10   train_loss = 4.761\n",
      "Epoch  10 Batch    5/10   train_loss = 4.700\n",
      "Epoch  11 Batch    0/10   train_loss = 4.675\n",
      "Epoch  11 Batch    5/10   train_loss = 4.620\n",
      "Epoch  12 Batch    0/10   train_loss = 4.593\n",
      "Epoch  12 Batch    5/10   train_loss = 4.539\n",
      "Epoch  13 Batch    0/10   train_loss = 4.520\n",
      "Epoch  13 Batch    5/10   train_loss = 4.480\n",
      "Epoch  14 Batch    0/10   train_loss = 4.444\n",
      "Epoch  14 Batch    5/10   train_loss = 4.410\n",
      "Epoch  15 Batch    0/10   train_loss = 4.384\n",
      "Epoch  15 Batch    5/10   train_loss = 4.337\n",
      "Epoch  16 Batch    0/10   train_loss = 4.299\n",
      "Epoch  16 Batch    5/10   train_loss = 4.259\n",
      "Epoch  17 Batch    0/10   train_loss = 4.238\n",
      "Epoch  17 Batch    5/10   train_loss = 4.194\n",
      "Epoch  18 Batch    0/10   train_loss = 4.169\n",
      "Epoch  18 Batch    5/10   train_loss = 4.139\n",
      "Epoch  19 Batch    0/10   train_loss = 4.093\n",
      "Epoch  19 Batch    5/10   train_loss = 4.060\n",
      "Epoch  20 Batch    0/10   train_loss = 4.019\n",
      "Epoch  20 Batch    5/10   train_loss = 4.001\n",
      "Epoch  21 Batch    0/10   train_loss = 3.949\n",
      "Epoch  21 Batch    5/10   train_loss = 3.945\n",
      "Epoch  22 Batch    0/10   train_loss = 3.895\n",
      "Epoch  22 Batch    5/10   train_loss = 3.878\n",
      "Epoch  23 Batch    0/10   train_loss = 3.821\n",
      "Epoch  23 Batch    5/10   train_loss = 3.817\n",
      "Epoch  24 Batch    0/10   train_loss = 3.765\n",
      "Epoch  24 Batch    5/10   train_loss = 3.762\n",
      "Epoch  25 Batch    0/10   train_loss = 3.710\n",
      "Epoch  25 Batch    5/10   train_loss = 3.709\n",
      "Epoch  26 Batch    0/10   train_loss = 3.640\n",
      "Epoch  26 Batch    5/10   train_loss = 3.673\n",
      "Epoch  27 Batch    0/10   train_loss = 3.589\n",
      "Epoch  27 Batch    5/10   train_loss = 3.608\n",
      "Epoch  28 Batch    0/10   train_loss = 3.505\n",
      "Epoch  28 Batch    5/10   train_loss = 3.533\n",
      "Epoch  29 Batch    0/10   train_loss = 3.459\n",
      "Epoch  29 Batch    5/10   train_loss = 3.488\n",
      "Epoch  30 Batch    0/10   train_loss = 3.402\n",
      "Epoch  30 Batch    5/10   train_loss = 3.430\n",
      "Epoch  31 Batch    0/10   train_loss = 3.344\n",
      "Epoch  31 Batch    5/10   train_loss = 3.386\n",
      "Epoch  32 Batch    0/10   train_loss = 3.320\n",
      "Epoch  32 Batch    5/10   train_loss = 3.334\n",
      "Epoch  33 Batch    0/10   train_loss = 3.256\n",
      "Epoch  33 Batch    5/10   train_loss = 3.295\n",
      "Epoch  34 Batch    0/10   train_loss = 3.217\n",
      "Epoch  34 Batch    5/10   train_loss = 3.265\n",
      "Epoch  35 Batch    0/10   train_loss = 3.182\n",
      "Epoch  35 Batch    5/10   train_loss = 3.221\n",
      "Epoch  36 Batch    0/10   train_loss = 3.100\n",
      "Epoch  36 Batch    5/10   train_loss = 3.159\n",
      "Epoch  37 Batch    0/10   train_loss = 3.067\n",
      "Epoch  37 Batch    5/10   train_loss = 3.118\n",
      "Epoch  38 Batch    0/10   train_loss = 3.009\n",
      "Epoch  38 Batch    5/10   train_loss = 3.056\n",
      "Epoch  39 Batch    0/10   train_loss = 2.959\n",
      "Epoch  39 Batch    5/10   train_loss = 3.004\n",
      "Epoch  40 Batch    0/10   train_loss = 2.908\n",
      "Epoch  40 Batch    5/10   train_loss = 2.948\n",
      "Epoch  41 Batch    0/10   train_loss = 2.844\n",
      "Epoch  41 Batch    5/10   train_loss = 2.913\n",
      "Epoch  42 Batch    0/10   train_loss = 2.824\n",
      "Epoch  42 Batch    5/10   train_loss = 2.885\n",
      "Epoch  43 Batch    0/10   train_loss = 2.772\n",
      "Epoch  43 Batch    5/10   train_loss = 2.816\n",
      "Epoch  44 Batch    0/10   train_loss = 2.715\n",
      "Epoch  44 Batch    5/10   train_loss = 2.775\n",
      "Epoch  45 Batch    0/10   train_loss = 2.690\n",
      "Epoch  45 Batch    5/10   train_loss = 2.742\n",
      "Epoch  46 Batch    0/10   train_loss = 2.655\n",
      "Epoch  46 Batch    5/10   train_loss = 2.723\n",
      "Epoch  47 Batch    0/10   train_loss = 2.625\n",
      "Epoch  47 Batch    5/10   train_loss = 2.680\n",
      "Epoch  48 Batch    0/10   train_loss = 2.594\n",
      "Epoch  48 Batch    5/10   train_loss = 2.640\n",
      "Epoch  49 Batch    0/10   train_loss = 2.564\n",
      "Epoch  49 Batch    5/10   train_loss = 2.620\n",
      "Epoch  50 Batch    0/10   train_loss = 2.533\n",
      "Epoch  50 Batch    5/10   train_loss = 2.585\n",
      "Epoch  51 Batch    0/10   train_loss = 2.467\n",
      "Epoch  51 Batch    5/10   train_loss = 2.503\n",
      "Epoch  52 Batch    0/10   train_loss = 2.425\n",
      "Epoch  52 Batch    5/10   train_loss = 2.489\n",
      "Epoch  53 Batch    0/10   train_loss = 2.409\n",
      "Epoch  53 Batch    5/10   train_loss = 2.449\n",
      "Epoch  54 Batch    0/10   train_loss = 2.349\n",
      "Epoch  54 Batch    5/10   train_loss = 2.392\n",
      "Epoch  55 Batch    0/10   train_loss = 2.311\n",
      "Epoch  55 Batch    5/10   train_loss = 2.372\n",
      "Epoch  56 Batch    0/10   train_loss = 2.286\n",
      "Epoch  56 Batch    5/10   train_loss = 2.331\n",
      "Epoch  57 Batch    0/10   train_loss = 2.244\n",
      "Epoch  57 Batch    5/10   train_loss = 2.292\n",
      "Epoch  58 Batch    0/10   train_loss = 2.204\n",
      "Epoch  58 Batch    5/10   train_loss = 2.260\n",
      "Epoch  59 Batch    0/10   train_loss = 2.171\n",
      "Epoch  59 Batch    5/10   train_loss = 2.233\n",
      "Epoch  60 Batch    0/10   train_loss = 2.131\n",
      "Epoch  60 Batch    5/10   train_loss = 2.195\n",
      "Epoch  61 Batch    0/10   train_loss = 2.103\n",
      "Epoch  61 Batch    5/10   train_loss = 2.156\n",
      "Epoch  62 Batch    0/10   train_loss = 2.078\n",
      "Epoch  62 Batch    5/10   train_loss = 2.122\n",
      "Epoch  63 Batch    0/10   train_loss = 2.029\n",
      "Epoch  63 Batch    5/10   train_loss = 2.074\n",
      "Epoch  64 Batch    0/10   train_loss = 1.985\n",
      "Epoch  64 Batch    5/10   train_loss = 2.035\n",
      "Epoch  65 Batch    0/10   train_loss = 1.952\n",
      "Epoch  65 Batch    5/10   train_loss = 1.998\n",
      "Epoch  66 Batch    0/10   train_loss = 1.918\n",
      "Epoch  66 Batch    5/10   train_loss = 1.976\n",
      "Epoch  67 Batch    0/10   train_loss = 1.883\n",
      "Epoch  67 Batch    5/10   train_loss = 1.935\n",
      "Epoch  68 Batch    0/10   train_loss = 1.856\n",
      "Epoch  68 Batch    5/10   train_loss = 1.921\n",
      "Epoch  69 Batch    0/10   train_loss = 1.856\n",
      "Epoch  69 Batch    5/10   train_loss = 1.896\n",
      "Epoch  70 Batch    0/10   train_loss = 1.827\n",
      "Epoch  70 Batch    5/10   train_loss = 1.867\n",
      "Epoch  71 Batch    0/10   train_loss = 1.791\n",
      "Epoch  71 Batch    5/10   train_loss = 1.835\n",
      "Epoch  72 Batch    0/10   train_loss = 1.739\n",
      "Epoch  72 Batch    5/10   train_loss = 1.799\n",
      "Epoch  73 Batch    0/10   train_loss = 1.728\n",
      "Epoch  73 Batch    5/10   train_loss = 1.787\n",
      "Epoch  74 Batch    0/10   train_loss = 1.713\n",
      "Epoch  74 Batch    5/10   train_loss = 1.757\n",
      "Epoch  75 Batch    0/10   train_loss = 1.678\n",
      "Epoch  75 Batch    5/10   train_loss = 1.722\n",
      "Epoch  76 Batch    0/10   train_loss = 1.640\n",
      "Epoch  76 Batch    5/10   train_loss = 1.680\n",
      "Epoch  77 Batch    0/10   train_loss = 1.618\n",
      "Epoch  77 Batch    5/10   train_loss = 1.670\n",
      "Epoch  78 Batch    0/10   train_loss = 1.619\n",
      "Epoch  78 Batch    5/10   train_loss = 1.649\n",
      "Epoch  79 Batch    0/10   train_loss = 1.573\n",
      "Epoch  79 Batch    5/10   train_loss = 1.602\n",
      "Epoch  80 Batch    0/10   train_loss = 1.521\n",
      "Epoch  80 Batch    5/10   train_loss = 1.571\n",
      "Epoch  81 Batch    0/10   train_loss = 1.510\n",
      "Epoch  81 Batch    5/10   train_loss = 1.584\n",
      "Epoch  82 Batch    0/10   train_loss = 1.493\n",
      "Epoch  82 Batch    5/10   train_loss = 1.540\n",
      "Epoch  83 Batch    0/10   train_loss = 1.467\n",
      "Epoch  83 Batch    5/10   train_loss = 1.508\n",
      "Epoch  84 Batch    0/10   train_loss = 1.445\n",
      "Epoch  84 Batch    5/10   train_loss = 1.508\n",
      "Epoch  85 Batch    0/10   train_loss = 1.442\n",
      "Epoch  85 Batch    5/10   train_loss = 1.512\n",
      "Epoch  86 Batch    0/10   train_loss = 1.435\n",
      "Epoch  86 Batch    5/10   train_loss = 1.481\n",
      "Epoch  87 Batch    0/10   train_loss = 1.389\n",
      "Epoch  87 Batch    5/10   train_loss = 1.416\n",
      "Epoch  88 Batch    0/10   train_loss = 1.325\n",
      "Epoch  88 Batch    5/10   train_loss = 1.362\n",
      "Epoch  89 Batch    0/10   train_loss = 1.292\n",
      "Epoch  89 Batch    5/10   train_loss = 1.345\n",
      "Epoch  90 Batch    0/10   train_loss = 1.287\n",
      "Epoch  90 Batch    5/10   train_loss = 1.342\n",
      "Epoch  91 Batch    0/10   train_loss = 1.291\n",
      "Epoch  91 Batch    5/10   train_loss = 1.310\n",
      "Epoch  92 Batch    0/10   train_loss = 1.234\n",
      "Epoch  92 Batch    5/10   train_loss = 1.259\n",
      "Epoch  93 Batch    0/10   train_loss = 1.206\n",
      "Epoch  93 Batch    5/10   train_loss = 1.238\n",
      "Epoch  94 Batch    0/10   train_loss = 1.176\n",
      "Epoch  94 Batch    5/10   train_loss = 1.228\n",
      "Epoch  95 Batch    0/10   train_loss = 1.170\n",
      "Epoch  95 Batch    5/10   train_loss = 1.212\n",
      "Epoch  96 Batch    0/10   train_loss = 1.149\n",
      "Epoch  96 Batch    5/10   train_loss = 1.172\n",
      "Epoch  97 Batch    0/10   train_loss = 1.115\n",
      "Epoch  97 Batch    5/10   train_loss = 1.156\n",
      "Epoch  98 Batch    0/10   train_loss = 1.113\n",
      "Epoch  98 Batch    5/10   train_loss = 1.153\n",
      "Epoch  99 Batch    0/10   train_loss = 1.107\n",
      "Epoch  99 Batch    5/10   train_loss = 1.130\n",
      "Epoch 100 Batch    0/10   train_loss = 1.058\n",
      "Epoch 100 Batch    5/10   train_loss = 1.073\n",
      "Epoch 101 Batch    0/10   train_loss = 1.050\n",
      "Epoch 101 Batch    5/10   train_loss = 1.095\n",
      "Epoch 102 Batch    0/10   train_loss = 1.053\n",
      "Epoch 102 Batch    5/10   train_loss = 1.056\n",
      "Epoch 103 Batch    0/10   train_loss = 1.008\n",
      "Epoch 103 Batch    5/10   train_loss = 1.028\n",
      "Epoch 104 Batch    0/10   train_loss = 1.000\n",
      "Epoch 104 Batch    5/10   train_loss = 1.022\n",
      "Epoch 105 Batch    0/10   train_loss = 0.956\n",
      "Epoch 105 Batch    5/10   train_loss = 0.979\n",
      "Epoch 106 Batch    0/10   train_loss = 0.952\n",
      "Epoch 106 Batch    5/10   train_loss = 0.998\n",
      "Epoch 107 Batch    0/10   train_loss = 0.970\n",
      "Epoch 107 Batch    5/10   train_loss = 1.006\n",
      "Epoch 108 Batch    0/10   train_loss = 0.953\n",
      "Epoch 108 Batch    5/10   train_loss = 0.950\n",
      "Epoch 109 Batch    0/10   train_loss = 0.895\n",
      "Epoch 109 Batch    5/10   train_loss = 0.909\n",
      "Epoch 110 Batch    0/10   train_loss = 0.884\n",
      "Epoch 110 Batch    5/10   train_loss = 0.922\n",
      "Epoch 111 Batch    0/10   train_loss = 0.874\n",
      "Epoch 111 Batch    5/10   train_loss = 0.884\n",
      "Epoch 112 Batch    0/10   train_loss = 0.830\n",
      "Epoch 112 Batch    5/10   train_loss = 0.850\n",
      "Epoch 113 Batch    0/10   train_loss = 0.823\n",
      "Epoch 113 Batch    5/10   train_loss = 0.855\n",
      "Epoch 114 Batch    0/10   train_loss = 0.813\n",
      "Epoch 114 Batch    5/10   train_loss = 0.843\n",
      "Epoch 115 Batch    0/10   train_loss = 0.805\n",
      "Epoch 115 Batch    5/10   train_loss = 0.846\n",
      "Epoch 116 Batch    0/10   train_loss = 0.808\n",
      "Epoch 116 Batch    5/10   train_loss = 0.847\n",
      "Epoch 117 Batch    0/10   train_loss = 0.801\n",
      "Epoch 117 Batch    5/10   train_loss = 0.827\n",
      "Epoch 118 Batch    0/10   train_loss = 0.791\n",
      "Epoch 118 Batch    5/10   train_loss = 0.816\n",
      "Epoch 119 Batch    0/10   train_loss = 0.752\n",
      "Epoch 119 Batch    5/10   train_loss = 0.733\n",
      "Epoch 120 Batch    0/10   train_loss = 0.683\n",
      "Epoch 120 Batch    5/10   train_loss = 0.703\n",
      "Epoch 121 Batch    0/10   train_loss = 0.671\n",
      "Epoch 121 Batch    5/10   train_loss = 0.680\n",
      "Epoch 122 Batch    0/10   train_loss = 0.632\n",
      "Epoch 122 Batch    5/10   train_loss = 0.649\n",
      "Epoch 123 Batch    0/10   train_loss = 0.607\n",
      "Epoch 123 Batch    5/10   train_loss = 0.628\n",
      "Epoch 124 Batch    0/10   train_loss = 0.586\n",
      "Epoch 124 Batch    5/10   train_loss = 0.607\n",
      "Model Trained and Saved\n"
     ]
    }
   ],
   "source": [
    "\"\"\"\n",
    "DON'T MODIFY ANYTHING IN THIS CELL\n",
    "\"\"\"\n",
    "batches = get_batches(int_text, batch_size, seq_length)\n",
    "\n",
    "with tf.Session(graph=train_graph) as sess:\n",
    "    sess.run(tf.global_variables_initializer())\n",
    "\n",
    "    for epoch_i in range(num_epochs):\n",
    "        state = sess.run(initial_state, {input_text: batches[0][0]})\n",
    "\n",
    "        for batch_i, (x, y) in enumerate(batches):\n",
    "            feed = {\n",
    "                input_text: x,\n",
    "                targets: y,\n",
    "                initial_state: state,\n",
    "                lr: learning_rate}\n",
    "            train_loss, state, _ = sess.run([cost, final_state, train_op], feed)\n",
    "\n",
    "            # Show every <show_every_n_batches> batches\n",
    "            if (epoch_i * len(batches) + batch_i) % show_every_n_batches == 0:\n",
    "                print('Epoch {:>3} Batch {:>4}/{}   train_loss = {:.3f}'.format(\n",
    "                    epoch_i,\n",
    "                    batch_i,\n",
    "                    len(batches),\n",
    "                    train_loss))\n",
    "\n",
    "    # Save Model\n",
    "    saver = tf.train.Saver()\n",
    "    saver.save(sess, save_dir)\n",
    "    print('Model Trained and Saved')"
   ]
  },
  {
   "cell_type": "markdown",
   "metadata": {
    "deletable": true,
    "editable": true
   },
   "source": [
    "## Save Parameters\n",
    "Save `seq_length` and `save_dir` for generating a new TV script."
   ]
  },
  {
   "cell_type": "code",
   "execution_count": 41,
   "metadata": {
    "collapsed": false,
    "deletable": true,
    "editable": true
   },
   "outputs": [],
   "source": [
    "\"\"\"\n",
    "DON'T MODIFY ANYTHING IN THIS CELL\n",
    "\"\"\"\n",
    "# Save parameters for checkpoint\n",
    "helper.save_params((seq_length, save_dir))"
   ]
  },
  {
   "cell_type": "markdown",
   "metadata": {
    "deletable": true,
    "editable": true
   },
   "source": [
    "# Checkpoint"
   ]
  },
  {
   "cell_type": "code",
   "execution_count": 42,
   "metadata": {
    "collapsed": false,
    "deletable": true,
    "editable": true
   },
   "outputs": [],
   "source": [
    "\"\"\"\n",
    "DON'T MODIFY ANYTHING IN THIS CELL\n",
    "\"\"\"\n",
    "import tensorflow as tf\n",
    "import numpy as np\n",
    "import helper\n",
    "import problem_unittests as tests\n",
    "\n",
    "_, vocab_to_int, int_to_vocab, token_dict = helper.load_preprocess()\n",
    "seq_length, load_dir = helper.load_params()"
   ]
  },
  {
   "cell_type": "markdown",
   "metadata": {
    "deletable": true,
    "editable": true
   },
   "source": [
    "## Implement Generate Functions\n",
    "### Get Tensors\n",
    "Get tensors from `loaded_graph` using the function [`get_tensor_by_name()`](https://www.tensorflow.org/api_docs/python/tf/Graph#get_tensor_by_name).  Get the tensors using the following names:\n",
    "- \"input:0\"\n",
    "- \"initial_state:0\"\n",
    "- \"final_state:0\"\n",
    "- \"probs:0\"\n",
    "\n",
    "Return the tensors in the following tuple `(InputTensor, InitialStateTensor, FinalStateTensor, ProbsTensor)` "
   ]
  },
  {
   "cell_type": "code",
   "execution_count": 43,
   "metadata": {
    "collapsed": false,
    "deletable": true,
    "editable": true
   },
   "outputs": [
    {
     "name": "stdout",
     "output_type": "stream",
     "text": [
      "Tests Passed\n"
     ]
    }
   ],
   "source": [
    "def get_tensors(loaded_graph):\n",
    "    \"\"\"\n",
    "    Get input, initial state, final state, and probabilities tensor from <loaded_graph>\n",
    "    :param loaded_graph: TensorFlow graph loaded from file\n",
    "    :return: Tuple (InputTensor, InitialStateTensor, FinalStateTensor, ProbsTensor)\n",
    "    \"\"\"\n",
    "    # TODO: Implement Function\n",
    "    InputTensor = loaded_graph.get_tensor_by_name(\"input:0\")\n",
    "    InitialStateTensor = loaded_graph.get_tensor_by_name(\"initial_state:0\") \n",
    "    FinalStateTensor = loaded_graph.get_tensor_by_name(\"final_state:0\") \n",
    "    ProbsTensor = loaded_graph.get_tensor_by_name(\"probs:0\")\n",
    "    return  (InputTensor, InitialStateTensor, FinalStateTensor, ProbsTensor)\n",
    "\n",
    "\n",
    "\"\"\"\n",
    "DON'T MODIFY ANYTHING IN THIS CELL THAT IS BELOW THIS LINE\n",
    "\"\"\"\n",
    "tests.test_get_tensors(get_tensors)"
   ]
  },
  {
   "cell_type": "markdown",
   "metadata": {
    "deletable": true,
    "editable": true
   },
   "source": [
    "### Choose Word\n",
    "Implement the `pick_word()` function to select the next word using `probabilities`."
   ]
  },
  {
   "cell_type": "code",
   "execution_count": 44,
   "metadata": {
    "collapsed": false,
    "deletable": true,
    "editable": true
   },
   "outputs": [
    {
     "name": "stdout",
     "output_type": "stream",
     "text": [
      "Tests Passed\n"
     ]
    }
   ],
   "source": [
    "import random\n",
    "\n",
    "\n",
    "def pick_word(probabilities, int_to_vocab):\n",
    "    \"\"\"\n",
    "    Pick the next word in the generated text\n",
    "    :param probabilities: Probabilites of the next word\n",
    "    :param int_to_vocab: Dictionary of word ids as the keys and words as the values\n",
    "    :return: String of the predicted word\n",
    "    \"\"\"\n",
    "    # TODO: Implement Function\n",
    "#     print(probabilities)\n",
    "#     print(int_to_vocab)\n",
    "    \n",
    "\n",
    "#     print(np.random.choice(list(int_to_vocab.values()), 1, p=probabilities)[0])\n",
    "    #return np.random.choice(int_to_vocab, probabilities)\n",
    "    return np.random.choice(list(int_to_vocab.values()), 1, p=probabilities)[0]\n",
    "    \"\"\"\n",
    "    DON'T MODIFY ANYTHING IN THIS CELL THAT IS BELOW THIS LINE\n",
    "    \"\"\"\n",
    "tests.test_pick_word(pick_word)"
   ]
  },
  {
   "cell_type": "markdown",
   "metadata": {
    "deletable": true,
    "editable": true
   },
   "source": [
    "## Generate TV Script\n",
    "This will generate the TV script for you.  Set `gen_length` to the length of TV script you want to generate."
   ]
  },
  {
   "cell_type": "code",
   "execution_count": 45,
   "metadata": {
    "collapsed": false,
    "deletable": true,
    "editable": true
   },
   "outputs": [
    {
     "name": "stdout",
     "output_type": "stream",
     "text": [
      "homer_simpson:(upset) marge, you're supposed to be hunting at him!\n",
      "bart_simpson: to krusty! moe! i don't have to look forward to me.\n",
      "laney_fontaine: sorry... what gives marge? i'm not done.\n",
      "homer_simpson: don't pull! i don't care.\n",
      "moe_szyslak:(can't-believe-how-bald-he-is) uh... well...(scanning bar, sees jar) egg soakin's.\n",
      "comic_book_guy: i'll pass.\n",
      "chief_wiggum: ah, let dr. moe cure what ails you.\n",
      "moe_szyslak: who was the here at the wrong thing--\n",
      "\n",
      "\n",
      "moe_szyslak: well, i got these super-tough that uh, but i do something for it. and now, i have a confession who should do is a guy don't use most your but crazy. from now on, walking is the man.\n",
      "moe_szyslak: yeah, that's a little person?(regretful) hey, where's the mob kinda thing that time aren't you to work with?\n",
      "fat_tony:(singing, furious finale) she couldn't possibly do worse!\n",
      "homer_simpson: oh no! oh\n"
     ]
    }
   ],
   "source": [
    "gen_length = 200\n",
    "# homer_simpson, moe_szyslak, or Barney_Gumble\n",
    "prime_word = 'homer_simpson'\n",
    "\n",
    "\"\"\"\n",
    "DON'T MODIFY ANYTHING IN THIS CELL THAT IS BELOW THIS LINE\n",
    "\"\"\"\n",
    "loaded_graph = tf.Graph()\n",
    "with tf.Session(graph=loaded_graph) as sess:\n",
    "    # Load saved model\n",
    "    loader = tf.train.import_meta_graph(load_dir + '.meta')\n",
    "    loader.restore(sess, load_dir)\n",
    "\n",
    "    # Get Tensors from loaded model\n",
    "    input_text, initial_state, final_state, probs = get_tensors(loaded_graph)\n",
    "\n",
    "    # Sentences generation setup\n",
    "    gen_sentences = [prime_word + ':']\n",
    "    prev_state = sess.run(initial_state, {input_text: np.array([[1]])})\n",
    "\n",
    "    # Generate sentences\n",
    "    for n in range(gen_length):\n",
    "        # Dynamic Input\n",
    "        dyn_input = [[vocab_to_int[word] for word in gen_sentences[-seq_length:]]]\n",
    "        dyn_seq_length = len(dyn_input[0])\n",
    "\n",
    "        # Get Prediction\n",
    "        probabilities, prev_state = sess.run(\n",
    "            [probs, final_state],\n",
    "            {input_text: dyn_input, initial_state: prev_state})\n",
    "        \n",
    "        pred_word = pick_word(probabilities[dyn_seq_length-1], int_to_vocab)\n",
    "\n",
    "        gen_sentences.append(pred_word)\n",
    "    \n",
    "    # Remove tokens\n",
    "    tv_script = ' '.join(gen_sentences)\n",
    "    for key, token in token_dict.items():\n",
    "        ending = ' ' if key in ['\\n', '(', '\"'] else ''\n",
    "        tv_script = tv_script.replace(' ' + token.lower(), key)\n",
    "    tv_script = tv_script.replace('\\n ', '\\n')\n",
    "    tv_script = tv_script.replace('( ', '(')\n",
    "        \n",
    "    print(tv_script)"
   ]
  },
  {
   "cell_type": "markdown",
   "metadata": {
    "deletable": true,
    "editable": true
   },
   "source": [
    "# The TV Script is Nonsensical\n",
    "It's ok if the TV script doesn't make any sense.  We trained on less than a megabyte of text.  In order to get good results, you'll have to use a smaller vocabulary or get more data.  Luckly there's more data!  As we mentioned in the begging of this project, this is a subset of [another dataset](https://www.kaggle.com/wcukierski/the-simpsons-by-the-data).  We didn't have you train on all the data, because that would take too long.  However, you are free to train your neural network on all the data.  After you complete the project, of course.\n",
    "# Submitting This Project\n",
    "When submitting this project, make sure to run all the cells before saving the notebook. Save the notebook file as \"dlnd_tv_script_generation.ipynb\" and save it as a HTML file under \"File\" -> \"Download as\". Include the \"helper.py\" and \"problem_unittests.py\" files in your submission."
   ]
  },
  {
   "cell_type": "code",
   "execution_count": null,
   "metadata": {
    "collapsed": true
   },
   "outputs": [],
   "source": []
  }
 ],
 "metadata": {
  "kernelspec": {
   "display_name": "Python 3",
   "language": "python",
   "name": "python3"
  },
  "language_info": {
   "codemirror_mode": {
    "name": "ipython",
    "version": 3
   },
   "file_extension": ".py",
   "mimetype": "text/x-python",
   "name": "python",
   "nbconvert_exporter": "python",
   "pygments_lexer": "ipython3",
   "version": "3.5.2"
  },
  "widgets": {
   "state": {},
   "version": "1.1.2"
  }
 },
 "nbformat": 4,
 "nbformat_minor": 0
}
